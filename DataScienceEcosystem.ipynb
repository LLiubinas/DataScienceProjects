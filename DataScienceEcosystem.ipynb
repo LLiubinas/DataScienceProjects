{
 "cells": [
  {
   "cell_type": "markdown",
   "id": "05f5cbce-4bbb-452d-b749-1ebaac4623fb",
   "metadata": {},
   "source": [
    "# Data Science Tools and Ecosystem"
   ]
  },
  {
   "cell_type": "markdown",
   "id": "97719d3f-e78d-4d38-8ff4-52de012b14d9",
   "metadata": {},
   "source": [
    "**Objectives:**\n",
    "* popular languages that Data Scientists use\n",
    "* commonly used libraries used by Data Scientists\n",
    "* Data Science Tools"
   ]
  },
  {
   "cell_type": "markdown",
   "id": "d11e26fc-c2dd-4320-9929-d725e26ab0c6",
   "metadata": {},
   "source": [
    "In this notebook, Data Science Tools and Ecosystem are summarized."
   ]
  },
  {
   "cell_type": "markdown",
   "id": "537cc8fa-e9c7-4544-8e23-91af30b6bd58",
   "metadata": {},
   "source": [
    "Some of the popular languages that Data Scientists use are:"
   ]
  },
  {
   "cell_type": "markdown",
   "id": "5fa8aec5-707c-4dea-b433-12c29f45cdfb",
   "metadata": {},
   "source": [
    "1. Python\n",
    "2. R\n",
    "3. SQL"
   ]
  },
  {
   "cell_type": "markdown",
   "id": "d479962d-63c4-487c-b6aa-516a7a710134",
   "metadata": {},
   "source": [
    "Some of the commonly used libraries used by Data Scientists include:"
   ]
  },
  {
   "cell_type": "markdown",
   "id": "6fb35f48-4aee-4b5d-aa9a-bd9c7bdcd97b",
   "metadata": {},
   "source": [
    "1. Pandas\n",
    "2. PyTorch\n",
    "3. Plotly"
   ]
  },
  {
   "cell_type": "markdown",
   "id": "f8366f77-b949-404f-bdae-42b85fb3dea4",
   "metadata": {},
   "source": [
    "| Data Science Tools |\n",
    "|--------------------|\n",
    "| Jupyter Notebook   |\n",
    "| RStudio            |\n",
    "| Hadoop             |"
   ]
  },
  {
   "cell_type": "markdown",
   "id": "ab71d88c-8ca1-4989-9f5b-e1ab5ec7f2c6",
   "metadata": {},
   "source": [
    "### Below are a few examples of evaluating arithmetic expressions in Python"
   ]
  },
  {
   "cell_type": "code",
   "execution_count": 15,
   "id": "89815c27-2780-4165-9c00-959122f7560d",
   "metadata": {},
   "outputs": [
    {
     "data": {
      "text/plain": [
       "17"
      ]
     },
     "execution_count": 15,
     "metadata": {},
     "output_type": "execute_result"
    }
   ],
   "source": [
    "(3*4)+5"
   ]
  },
  {
   "cell_type": "code",
   "execution_count": 19,
   "id": "a192d053-0e12-48e1-8cc7-b4edebf38d3f",
   "metadata": {},
   "outputs": [
    {
     "name": "stdout",
     "output_type": "stream",
     "text": [
      "3.3333333333333335\n"
     ]
    }
   ],
   "source": [
    "# This will convert 200 minutes to hours by diving by 60.\n",
    "def minutes_to_hours(minutes):\n",
    "    return minutes /60\n",
    "\n",
    "minutes= 200\n",
    "hours= minutes_to_hours(minutes)\n",
    "print(hours)"
   ]
  },
  {
   "cell_type": "markdown",
   "id": "34f52d88-8c4e-4050-aca1-aa4c3ead2015",
   "metadata": {},
   "source": [
    "## Author\n",
    "Rimantas"
   ]
  },
  {
   "cell_type": "code",
   "execution_count": null,
   "id": "60f0ec24-0043-4551-8751-eb55e1b93f08",
   "metadata": {},
   "outputs": [],
   "source": []
  }
 ],
 "metadata": {
  "kernelspec": {
   "display_name": "Python [conda env:base] *",
   "language": "python",
   "name": "conda-base-py"
  },
  "language_info": {
   "codemirror_mode": {
    "name": "ipython",
    "version": 3
   },
   "file_extension": ".py",
   "mimetype": "text/x-python",
   "name": "python",
   "nbconvert_exporter": "python",
   "pygments_lexer": "ipython3",
   "version": "3.12.7"
  }
 },
 "nbformat": 4,
 "nbformat_minor": 5
}
