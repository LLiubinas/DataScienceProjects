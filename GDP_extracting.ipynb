{
 "cells": [
  {
   "cell_type": "markdown",
   "id": "1bc01aa8-9c1b-4ce1-8dbb-c1b48e227ccf",
   "metadata": {},
   "source": [
    "****Retrieving data from an URL and modifying it to get the top 10 countries with the highest GDP****"
   ]
  },
  {
   "cell_type": "markdown",
   "id": "045ebccf-649d-422f-9321-dae985c313a2",
   "metadata": {},
   "source": [
    "URL: https://web.archive.org/web/20230902185326/https://en.wikipedia.org/wiki/List_of_countries_by_GDP_%28nominal%29"
   ]
  },
  {
   "cell_type": "code",
   "execution_count": 174,
   "id": "50e3ec05-903c-4518-ab42-22108693c2b1",
   "metadata": {},
   "outputs": [],
   "source": [
    "import pandas as pd\n",
    "import numpy as np"
   ]
  },
  {
   "cell_type": "code",
   "execution_count": 176,
   "id": "de6a33f9-ddb0-403e-9c07-ce5bf8b0389b",
   "metadata": {},
   "outputs": [],
   "source": [
    "URL = 'https://web.archive.org/web/20230902185326/https://en.wikipedia.org/wiki/List_of_countries_by_GDP_%28nominal%29'"
   ]
  },
  {
   "cell_type": "code",
   "execution_count": 178,
   "id": "cf95467e-d378-4927-8fa3-fbefaff1d5ea",
   "metadata": {},
   "outputs": [],
   "source": [
    "#reading html file\n",
    "tables = pd.read_html(URL)\n",
    "df = tables[3]    \n",
    "\n",
    "#showing the first 3 collums of the list\n",
    "df.columns = range(df.shape[1])\n",
    "df = df[[0,2]]\n",
    "\n",
    "#locating the first 10 rows\n",
    "df = df.iloc[1:11,:]\n",
    "\n",
    "#changing the column names\n",
    "df.columns = ['Country','GDP (Million USD)']"
   ]
  },
  {
   "cell_type": "code",
   "execution_count": 179,
   "id": "8335496d-e1f6-44ae-9bdc-5601fa0902d2",
   "metadata": {},
   "outputs": [
    {
     "data": {
      "text/html": [
       "<div>\n",
       "<style scoped>\n",
       "    .dataframe tbody tr th:only-of-type {\n",
       "        vertical-align: middle;\n",
       "    }\n",
       "\n",
       "    .dataframe tbody tr th {\n",
       "        vertical-align: top;\n",
       "    }\n",
       "\n",
       "    .dataframe thead th {\n",
       "        text-align: right;\n",
       "    }\n",
       "</style>\n",
       "<table border=\"1\" class=\"dataframe\">\n",
       "  <thead>\n",
       "    <tr style=\"text-align: right;\">\n",
       "      <th></th>\n",
       "      <th>Country</th>\n",
       "      <th>GDP (Billion USD)</th>\n",
       "    </tr>\n",
       "  </thead>\n",
       "  <tbody>\n",
       "    <tr>\n",
       "      <th>1</th>\n",
       "      <td>United States</td>\n",
       "      <td>26854.60</td>\n",
       "    </tr>\n",
       "    <tr>\n",
       "      <th>2</th>\n",
       "      <td>China</td>\n",
       "      <td>19373.59</td>\n",
       "    </tr>\n",
       "    <tr>\n",
       "      <th>3</th>\n",
       "      <td>Japan</td>\n",
       "      <td>4409.74</td>\n",
       "    </tr>\n",
       "    <tr>\n",
       "      <th>4</th>\n",
       "      <td>Germany</td>\n",
       "      <td>4308.85</td>\n",
       "    </tr>\n",
       "    <tr>\n",
       "      <th>5</th>\n",
       "      <td>India</td>\n",
       "      <td>3736.88</td>\n",
       "    </tr>\n",
       "    <tr>\n",
       "      <th>6</th>\n",
       "      <td>United Kingdom</td>\n",
       "      <td>3158.94</td>\n",
       "    </tr>\n",
       "    <tr>\n",
       "      <th>7</th>\n",
       "      <td>France</td>\n",
       "      <td>2923.49</td>\n",
       "    </tr>\n",
       "    <tr>\n",
       "      <th>8</th>\n",
       "      <td>Italy</td>\n",
       "      <td>2169.74</td>\n",
       "    </tr>\n",
       "    <tr>\n",
       "      <th>9</th>\n",
       "      <td>Canada</td>\n",
       "      <td>2089.67</td>\n",
       "    </tr>\n",
       "    <tr>\n",
       "      <th>10</th>\n",
       "      <td>Brazil</td>\n",
       "      <td>2081.24</td>\n",
       "    </tr>\n",
       "  </tbody>\n",
       "</table>\n",
       "</div>"
      ],
      "text/plain": [
       "           Country  GDP (Billion USD)\n",
       "1    United States           26854.60\n",
       "2            China           19373.59\n",
       "3            Japan            4409.74\n",
       "4          Germany            4308.85\n",
       "5            India            3736.88\n",
       "6   United Kingdom            3158.94\n",
       "7           France            2923.49\n",
       "8            Italy            2169.74\n",
       "9           Canada            2089.67\n",
       "10          Brazil            2081.24"
      ]
     },
     "execution_count": 179,
     "metadata": {},
     "output_type": "execute_result"
    }
   ],
   "source": [
    "#Convering GDP values to int\n",
    "df['GDP (Million USD)'] = df['GDP (Million USD)'].astype(int)\n",
    "\n",
    "#Converting Millions into Billions\n",
    "df[['GDP (Million USD)']] = df[['GDP (Million USD)']]/1000\n",
    "\n",
    "#Rounding up to two last decimals\n",
    "df[['GDP (Million USD)']] = np.round(df[['GDP (Million USD)']], 2)\n",
    "\n",
    "#Renaming the collum\n",
    "df.rename(columns = {'GDP (Million USD)' : 'GDP (Billion USD)'}, inplace=True )\n",
    "df"
   ]
  },
  {
   "cell_type": "code",
   "execution_count": 185,
   "id": "f1cf61fe-7cef-49eb-88c3-445e1611760e",
   "metadata": {},
   "outputs": [],
   "source": [
    "df.to_csv('./Largest_economies.csv')"
   ]
  },
  {
   "cell_type": "code",
   "execution_count": null,
   "id": "4e9bfe96-a9b9-4184-8e35-77b35309e1c9",
   "metadata": {},
   "outputs": [],
   "source": []
  }
 ],
 "metadata": {
  "kernelspec": {
   "display_name": "Python [conda env:base] *",
   "language": "python",
   "name": "conda-base-py"
  },
  "language_info": {
   "codemirror_mode": {
    "name": "ipython",
    "version": 3
   },
   "file_extension": ".py",
   "mimetype": "text/x-python",
   "name": "python",
   "nbconvert_exporter": "python",
   "pygments_lexer": "ipython3",
   "version": "3.12.7"
  }
 },
 "nbformat": 4,
 "nbformat_minor": 5
}
